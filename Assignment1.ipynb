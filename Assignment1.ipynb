{
 "cells": [
  {
   "attachments": {},
   "cell_type": "markdown",
   "metadata": {},
   "source": [
    "## **Assignment: Team 2**"
   ]
  },
  {
   "attachments": {},
   "cell_type": "markdown",
   "metadata": {},
   "source": [
    "#### **Import lib and data**\n"
   ]
  },
  {
   "cell_type": "code",
   "execution_count": 1,
   "metadata": {},
   "outputs": [],
   "source": [
    "# Import lib\n",
    "import pandas as pd\n",
    "import numpy as np"
   ]
  },
  {
   "cell_type": "code",
   "execution_count": 2,
   "metadata": {},
   "outputs": [],
   "source": [
    "csv_file = './data/Census_Data_-_Selected_socioeconomic_indicators_in_Chicago__2008___2012.csv'\n",
    "\n",
    "df = pd.read_csv(csv_file)\n",
    "\n",
    "csv_file = './data/Chicago_Public_Schools_-_Progress_Report_Cards__2011-2012_.csv'\n",
    "\n",
    "df1 = pd.read_csv(csv_file)\n",
    "\n",
    "csv_file = './data/Crimes_-_2001_to_Present.csv'\n",
    "\n",
    "df2 = pd.read_csv(csv_file)"
   ]
  },
  {
   "attachments": {},
   "cell_type": "markdown",
   "metadata": {},
   "source": [
    "#### **Problem 1**\n",
    " ***Find the total number of crimes recorded in the CRIME table.***\n"
   ]
  },
  {
   "cell_type": "code",
   "execution_count": 3,
   "metadata": {},
   "outputs": [
    {
     "name": "stdout",
     "output_type": "stream",
     "text": [
      "Total crime records: 7806379\n"
     ]
    }
   ],
   "source": [
    "# Problem 1\n",
    "pr1 = df2\n",
    "\n",
    "print(f\"Total crime records: {pr1.shape[0]}\")"
   ]
  },
  {
   "attachments": {},
   "cell_type": "markdown",
   "metadata": {},
   "source": [
    "#### **Problem 2**\n",
    " ***List community areas with per capita income less than 11000.***\n"
   ]
  },
  {
   "cell_type": "code",
   "execution_count": 4,
   "metadata": {},
   "outputs": [
    {
     "name": "stdout",
     "output_type": "stream",
     "text": [
      "Community Area Number                  26.0\n",
      "COMMUNITY AREA NAME      West Garfield Park\n",
      "PER CAPITA INCOME                     10934\n",
      "Name: 25, dtype: object\n",
      "Community Area Number              30.0\n",
      "COMMUNITY AREA NAME      South Lawndale\n",
      "PER CAPITA INCOME                 10402\n",
      "Name: 29, dtype: object\n",
      "Community Area Number           37.0\n",
      "COMMUNITY AREA NAME      Fuller Park\n",
      "PER CAPITA INCOME              10432\n",
      "Name: 36, dtype: object\n",
      "Community Area Number         54.0\n",
      "COMMUNITY AREA NAME      Riverdale\n",
      "PER CAPITA INCOME             8201\n",
      "Name: 53, dtype: object\n"
     ]
    }
   ],
   "source": [
    "# Problem 2\n",
    "pr2 = df[[\"Community Area Number\", \"COMMUNITY AREA NAME\", \"PER CAPITA INCOME \"]]\n",
    "\n",
    "pr2=pr2.dropna(how=\"all\")\n",
    "for index, row in pr2.iterrows():\n",
    "    if int(row[\"PER CAPITA INCOME \"]) < 11000:\n",
    "        print(row)"
   ]
  },
  {
   "attachments": {},
   "cell_type": "markdown",
   "metadata": {},
   "source": [
    "#### **Problem 3**\n",
    " ***List all case numbers for crimes involving minors?(children are not considered minors for the purposes of crime analysis)***\n"
   ]
  },
  {
   "cell_type": "code",
   "execution_count": 48,
   "metadata": {},
   "outputs": [
    {
     "name": "stdout",
     "output_type": "stream",
     "text": [
      "count        20708\n",
      "unique       20708\n",
      "top       HY412341\n",
      "freq             1\n",
      "Name: Case Number, dtype: object\n",
      "['HY412341' 'HY418043' 'HY277510' ... 'JF295312' 'JF292734' 'JF295343']\n"
     ]
    }
   ],
   "source": [
    "# Problem 3\n",
    "pr3 = df2[df2[\"Description\"].str.contains(\"MINOR\")]\n",
    "print(pr3['Case Number'].describe())\n",
    "print(pr3['Case Number'].unique())\n",
    "\n",
    "\n"
   ]
  },
  {
   "attachments": {},
   "cell_type": "markdown",
   "metadata": {},
   "source": [
    "#### **Problem 4**\n",
    " ***List all kidnapping crimes involving a child?***\n"
   ]
  },
  {
   "cell_type": "code",
   "execution_count": 50,
   "metadata": {},
   "outputs": [
    {
     "name": "stdout",
     "output_type": "stream",
     "text": [
      "        Case Number Primary Type                    Date  \\\n",
      "1147       HY413505   KIDNAPPING  09/07/2015 12:30:00 AM   \n",
      "3093       HY415971   KIDNAPPING  09/04/2015 04:00:00 PM   \n",
      "3094       HY190240   KIDNAPPING  02/04/2015 01:07:00 PM   \n",
      "3641       HY417409   KIDNAPPING  09/09/2015 08:35:00 PM   \n",
      "3826       HY415953   KIDNAPPING  09/02/2015 04:00:00 PM   \n",
      "...             ...          ...                     ...   \n",
      "7799452    JF264672   KIDNAPPING  05/26/2022 01:00:00 PM   \n",
      "7800006    JG203175   KIDNAPPING  03/29/2023 08:00:00 AM   \n",
      "7800491    JF279528   KIDNAPPING  06/14/2022 03:41:00 PM   \n",
      "7802101    JF294513   KIDNAPPING  06/26/2022 10:00:00 AM   \n",
      "7804976    JF299006   KIDNAPPING  06/29/2022 02:45:00 PM   \n",
      "\n",
      "                              Description  \n",
      "1147                   UNLAWFUL RESTRAINT  \n",
      "3093        UNLAWFUL INTERFERE/VISITATION  \n",
      "3094        UNLAWFUL INTERFERE/VISITATION  \n",
      "3641             CHILD ABDUCTION/STRANGER  \n",
      "3826        UNLAWFUL INTERFERE/VISITATION  \n",
      "...                                   ...  \n",
      "7799452                        KIDNAPPING  \n",
      "7800006        CHILD ABDUCTION / STRANGER  \n",
      "7800491                UNLAWFUL RESTRAINT  \n",
      "7802101  UNLAWFUL VISITATION INTERFERENCE  \n",
      "7804976  UNLAWFUL VISITATION INTERFERENCE  \n",
      "\n",
      "[7229 rows x 4 columns]\n"
     ]
    }
   ],
   "source": [
    "# Problem 4\n",
    "pr4 = df2[df2[\"Primary Type\"].str.contains(\"KIDNAPPING\")]\n",
    "# print case_number\tprimary_type\tDATE\tdescription\n",
    "print(pr4[[\"Case Number\", \"Primary Type\", \"Date\", \"Description\"]].drop_duplicates())\n",
    "\n",
    "\n",
    "\n",
    "\n",
    "\n"
   ]
  },
  {
   "attachments": {},
   "cell_type": "markdown",
   "metadata": {},
   "source": [
    "#### **Problem 5**\n",
    " ***What kind of crimes were recorded at schools?***\n"
   ]
  },
  {
   "cell_type": "code",
   "execution_count": 31,
   "metadata": {},
   "outputs": [
    {
     "name": "stdout",
     "output_type": "stream",
     "text": [
      "Kind of crimes were recorded at schools:\n",
      "CRIMINAL DAMAGE\n",
      "SEX OFFENSE\n",
      "CRIMINAL TRESPASS\n",
      "THEFT\n",
      "NARCOTICS\n",
      "BATTERY\n",
      "ASSAULT\n",
      "KIDNAPPING\n",
      "OFFENSE INVOLVING CHILDREN\n",
      "PUBLIC PEACE VIOLATION\n",
      "BURGLARY\n",
      "OTHER OFFENSE\n",
      "STALKING\n",
      "MOTOR VEHICLE THEFT\n",
      "CRIM SEXUAL ASSAULT\n",
      "WEAPONS VIOLATION\n",
      "ROBBERY\n",
      "DECEPTIVE PRACTICE\n",
      "OBSCENITY\n",
      "INTERFERENCE WITH PUBLIC OFFICER\n",
      "INTIMIDATION\n",
      "ARSON\n",
      "LIQUOR LAW VIOLATION\n",
      "OTHER NARCOTIC VIOLATION\n",
      "PROSTITUTION\n",
      "PUBLIC INDECENCY\n",
      "GAMBLING\n",
      "CONCEALED CARRY LICENSE VIOLATION\n",
      "CRIMINAL SEXUAL ASSAULT\n",
      "HOMICIDE\n",
      "RITUALISM\n",
      "HUMAN TRAFFICKING\n"
     ]
    }
   ],
   "source": [
    "#problem 5\n",
    "#drop NA\n",
    "df2 = df2.dropna(subset=[\"Location Description\"])\n",
    "\n",
    "#dữ liệu có nhiều loại school nên tìm các Location Description có chứa SCHOOL\n",
    "crimes_at_schools = df2[df2[\"Location Description\"].str.contains(\"SCHOOL\", case=False)][\"Primary Type\"].unique()\n",
    "\n",
    "print(\"Kind of crimes were recorded at schools:\")\n",
    "for crime in crimes_at_schools:\n",
    "    print(crime)\n",
    "\n"
   ]
  },
  {
   "attachments": {},
   "cell_type": "markdown",
   "metadata": {},
   "source": [
    "#### **Problem 6**\n",
    " ***List the average safety score for all types of schools!***\n"
   ]
  },
  {
   "cell_type": "code",
   "execution_count": 5,
   "metadata": {},
   "outputs": [
    {
     "name": "stdout",
     "output_type": "stream",
     "text": [
      "ES: 20650\n",
      "HS: 4218\n",
      "MS: 528\n"
     ]
    }
   ],
   "source": [
    "# Problem 6\n",
    "pr6 = df1[[\"Safety Score\", \"Elementary, Middle, or High School\"]]\n",
    "\n",
    "schoolTypes = {}\n",
    "\n",
    "pr6 = pr6.dropna(how=\"any\")\n",
    "\n",
    "for index, row in pr6.iterrows():\n",
    "    try:\n",
    "        schoolTypes[row[\"Elementary, Middle, or High School\"]] += int(row[\"Safety Score\"])\n",
    "    except KeyError as e:\n",
    "        schoolTypes[row[\"Elementary, Middle, or High School\"]] = int(row[\"Safety Score\"])\n",
    "    except ValueError as e:\n",
    "        print(e)\n",
    "\n",
    "for schoolType in schoolTypes:\n",
    "    print(f\"{schoolType}: {schoolTypes.get(schoolType)}\")"
   ]
  },
  {
   "attachments": {},
   "cell_type": "markdown",
   "metadata": {},
   "source": [
    "#### **Problem 7**\n",
    " ***List 5 community areas with highest % of households below poverty line. Riverdale Fuller Park Englewood North Lawndale East Garfield Park***\n"
   ]
  },
  {
   "cell_type": "code",
   "execution_count": 32,
   "metadata": {},
   "outputs": [
    {
     "name": "stdout",
     "output_type": "stream",
     "text": [
      "5 community areas with highest % of households below poverty line:\n",
      "   COMMUNITY AREA NAME  PERCENT HOUSEHOLDS BELOW POVERTY\n",
      "53           Riverdale                              56.5\n",
      "36         Fuller Park                              51.2\n",
      "67           Englewood                              46.6\n",
      "28      North Lawndale                              43.1\n",
      "26  East Garfield Park                              42.4\n"
     ]
    }
   ],
   "source": [
    "#problem 7\n",
    "sorted_data = df.sort_values(by=\"PERCENT HOUSEHOLDS BELOW POVERTY\", ascending=False)\n",
    "\n",
    "# Trích xuất 5 khu vực cộng đồng có tỷ lệ hộ gia đình dưới mức nghèo nhất\n",
    "top_5_community_areas = sorted_data.head(5)\n",
    "print(\"5 community areas with highest % of households below poverty line:\")\n",
    "print(top_5_community_areas[[\"COMMUNITY AREA NAME\", \"PERCENT HOUSEHOLDS BELOW POVERTY\"]])"
   ]
  },
  {
   "attachments": {},
   "cell_type": "markdown",
   "metadata": {},
   "source": [
    "#### **Problem 8**\n",
    " ***Which community area is most crime prone?***\n",
    "\n"
   ]
  },
  {
   "cell_type": "code",
   "execution_count": 9,
   "metadata": {},
   "outputs": [
    {
     "name": "stdout",
     "output_type": "stream",
     "text": [
      "Community area(number) is most crime prone is 25.0\n"
     ]
    }
   ],
   "source": [
    "# Problem 8\n",
    "print('Community area(number) is most crime prone is', df2[\"Community Area\"].value_counts().idxmax())\n",
    "\n"
   ]
  },
  {
   "attachments": {},
   "cell_type": "markdown",
   "metadata": {},
   "source": [
    "#### **Problem 9**\n",
    " ***Use a sub-query to find the name of the community area with highest hardship index***\n"
   ]
  },
  {
   "cell_type": "code",
   "execution_count": 14,
   "metadata": {},
   "outputs": [
    {
     "name": "stdout",
     "output_type": "stream",
     "text": [
      "Community Area with the Highest Hardship Index: Riverdale\n"
     ]
    }
   ],
   "source": [
    "\n",
    "# find the maximum hardship index\n",
    "max_hardship_index = df['HARDSHIP INDEX'].max()\n",
    "# Filter to get the row with the highest hardship index\n",
    "community_area_with_max_index = df[df['HARDSHIP INDEX'] == max_hardship_index]\n",
    "# Get name of the community area\n",
    "community_area_name = community_area_with_max_index['COMMUNITY AREA NAME'].values[0]\n",
    "print(\"Community Area with the Highest Hardship Index:\", community_area_name)\n",
    "\n",
    "\n"
   ]
  },
  {
   "attachments": {},
   "cell_type": "markdown",
   "metadata": {},
   "source": [
    "#### **Problem 10**\n",
    " ***Use a sub-query to determine the Community Area Name with most number of crimes?***\n",
    "\n"
   ]
  },
  {
   "cell_type": "code",
   "execution_count": 23,
   "metadata": {},
   "outputs": [
    {
     "name": "stdout",
     "output_type": "stream",
     "text": [
      "The Community Area Name with most number of crimes is: Austin\n"
     ]
    }
   ],
   "source": [
    "# Show the COMMUNITY AREA NAME in df that has df2[\"Community Area\"].value_counts().idxmax()\n",
    "print('The Community Area Name with most number of crimes is:',df[df['Community Area Number'] == df2[\"Community Area\"].value_counts().idxmax()]['COMMUNITY AREA NAME'].values[0])\n",
    "\n",
    "\n"
   ]
  },
  {
   "cell_type": "code",
   "execution_count": null,
   "metadata": {},
   "outputs": [],
   "source": []
  }
 ],
 "metadata": {
  "kernelspec": {
   "display_name": "Python 3",
   "language": "python",
   "name": "python3"
  },
  "language_info": {
   "codemirror_mode": {
    "name": "ipython",
    "version": 3
   },
   "file_extension": ".py",
   "mimetype": "text/x-python",
   "name": "python",
   "nbconvert_exporter": "python",
   "pygments_lexer": "ipython3",
   "version": "3.7.16"
  },
  "orig_nbformat": 4
 },
 "nbformat": 4,
 "nbformat_minor": 2
}
