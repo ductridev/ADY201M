{
 "cells": [
  {
   "cell_type": "code",
   "execution_count": 1,
   "metadata": {},
   "outputs": [],
   "source": [
    "# Import lib\n",
    "import pandas as pd\n",
    "import numpy as np"
   ]
  },
  {
   "cell_type": "code",
   "execution_count": 2,
   "metadata": {},
   "outputs": [],
   "source": [
    "csv_file = './data/Census_Data_-_Selected_socioeconomic_indicators_in_Chicago__2008___2012.csv'\n",
    "\n",
    "df = pd.read_csv(csv_file)\n",
    "\n",
    "csv_file = './data/Chicago_Public_Schools_-_Progress_Report_Cards__2011-2012_.csv'\n",
    "\n",
    "df1 = pd.read_csv(csv_file)\n",
    "\n",
    "csv_file = './data/Crimes_-_2001_to_Present.csv'\n",
    "\n",
    "df2 = pd.read_csv(csv_file)"
   ]
  },
  {
   "cell_type": "code",
   "execution_count": 3,
   "metadata": {},
   "outputs": [
    {
     "name": "stdout",
     "output_type": "stream",
     "text": [
      "Total crime records: 7807846\n"
     ]
    }
   ],
   "source": [
    "# Problem 1\n",
    "pr1 = df2\n",
    "\n",
    "print(f\"Total crime records: {pr1.shape[0]}\")"
   ]
  },
  {
   "cell_type": "code",
   "execution_count": 4,
   "metadata": {},
   "outputs": [
    {
     "name": "stdout",
     "output_type": "stream",
     "text": [
      "Community Area Number                  26.0\n",
      "COMMUNITY AREA NAME      West Garfield Park\n",
      "PER CAPITA INCOME                     10934\n",
      "Name: 25, dtype: object\n",
      "Community Area Number              30.0\n",
      "COMMUNITY AREA NAME      South Lawndale\n",
      "PER CAPITA INCOME                 10402\n",
      "Name: 29, dtype: object\n",
      "Community Area Number           37.0\n",
      "COMMUNITY AREA NAME      Fuller Park\n",
      "PER CAPITA INCOME              10432\n",
      "Name: 36, dtype: object\n",
      "Community Area Number         54.0\n",
      "COMMUNITY AREA NAME      Riverdale\n",
      "PER CAPITA INCOME             8201\n",
      "Name: 53, dtype: object\n"
     ]
    }
   ],
   "source": [
    "# Problem 2\n",
    "pr2 = df[[\"Community Area Number\", \"COMMUNITY AREA NAME\", \"PER CAPITA INCOME \"]]\n",
    "\n",
    "pr2=pr2.dropna(how=\"all\")\n",
    "for index, row in pr2.iterrows():\n",
    "    if int(row[\"PER CAPITA INCOME \"]) < 11000:\n",
    "        print(row)"
   ]
  },
  {
   "cell_type": "code",
   "execution_count": 15,
   "metadata": {
    "scrolled": false
   },
   "outputs": [
    {
     "name": "stdout",
     "output_type": "stream",
     "text": [
      "kind of crimes were recorded at schools:\n",
      "BATTERY\n",
      "ASSAULT\n",
      "OFFENSE INVOLVING CHILDREN\n",
      "THEFT\n",
      "CRIMINAL TRESPASS\n",
      "MOTOR VEHICLE THEFT\n",
      "OTHER OFFENSE\n",
      "CRIMINAL DAMAGE\n",
      "BURGLARY\n",
      "WEAPONS VIOLATION\n",
      "PUBLIC PEACE VIOLATION\n",
      "CRIMINAL SEXUAL ASSAULT\n",
      "SEX OFFENSE\n",
      "LIQUOR LAW VIOLATION\n",
      "NARCOTICS\n",
      "STALKING\n",
      "DECEPTIVE PRACTICE\n",
      "ROBBERY\n",
      "INTIMIDATION\n",
      "HOMICIDE\n",
      "CONCEALED CARRY LICENSE VIOLATION\n",
      "ARSON\n",
      "OBSCENITY\n",
      "KIDNAPPING\n",
      "OTHER NARCOTIC VIOLATION\n",
      "INTERFERENCE WITH PUBLIC OFFICER\n",
      "CRIM SEXUAL ASSAULT\n",
      "PUBLIC INDECENCY\n",
      "GAMBLING\n",
      "PROSTITUTION\n",
      "HUMAN TRAFFICKING\n",
      "RITUALISM\n"
     ]
    }
   ],
   "source": [
    "#problem 6\n",
    "#drop NA\n",
    "df2 = df2.dropna(subset=[\"Location Description\"])\n",
    "\n",
    "#dữ liệu có nhiều loại school nên tìm các Location Description có chứa SCHOOL\n",
    "crimes_at_schools = df2[df2[\"Location Description\"].str.contains(\"SCHOOL\", case=False)][\"Primary Type\"].unique()\n",
    "\n",
    "print(\"kind of crimes were recorded at schools:\")\n",
    "for crime in crimes_at_schools:\n",
    "    print(crime)"
   ]
  },
  {
   "cell_type": "code",
   "execution_count": 5,
   "metadata": {},
   "outputs": [
    {
     "name": "stdout",
     "output_type": "stream",
     "text": [
      "ES: 20650\n",
      "HS: 4218\n",
      "MS: 528\n"
     ]
    }
   ],
   "source": [
    "# Problem 6\n",
    "pr6 = df1[[\"Safety Score\", \"Elementary, Middle, or High School\"]]\n",
    "\n",
    "schoolTypes = {}\n",
    "\n",
    "pr6 = pr6.dropna(how=\"any\")\n",
    "\n",
    "for index, row in pr6.iterrows():\n",
    "    try:\n",
    "        schoolTypes[row[\"Elementary, Middle, or High School\"]] += int(row[\"Safety Score\"])\n",
    "    except KeyError as e:\n",
    "        schoolTypes[row[\"Elementary, Middle, or High School\"]] = int(row[\"Safety Score\"])\n",
    "    except ValueError as e:\n",
    "        print(e)\n",
    "\n",
    "for schoolType in schoolTypes:\n",
    "    print(f\"{schoolType}: {schoolTypes.get(schoolType)}\")"
   ]
  },
  {
   "cell_type": "code",
   "execution_count": 14,
   "metadata": {},
   "outputs": [
    {
     "name": "stdout",
     "output_type": "stream",
     "text": [
      "5 community areas with highest % of households below poverty line:\n",
      "   COMMUNITY AREA NAME  PERCENT HOUSEHOLDS BELOW POVERTY\n",
      "53           Riverdale                              56.5\n",
      "36         Fuller Park                              51.2\n",
      "67           Englewood                              46.6\n",
      "28      North Lawndale                              43.1\n",
      "26  East Garfield Park                              42.4\n"
     ]
    }
   ],
   "source": [
    "#problem 7\n",
    "sorted_data = df.sort_values(by=\"PERCENT HOUSEHOLDS BELOW POVERTY\", ascending=False)\n",
    "\n",
    "# Trích xuất 5 khu vực cộng đồng có tỷ lệ hộ gia đình dưới mức nghèo nhất\n",
    "top_5_community_areas = sorted_data.head(5)\n",
    "print(\"5 community areas with highest % of households below poverty line:\")\n",
    "print(top_5_community_areas[[\"COMMUNITY AREA NAME\", \"PERCENT HOUSEHOLDS BELOW POVERTY\"]])"
   ]
  },
  {
   "cell_type": "markdown",
   "metadata": {},
   "source": [
    "# Trả lời câu hỏi"
   ]
  },
  {
   "attachments": {},
   "cell_type": "markdown",
   "metadata": {},
   "source": [
    "Problem 1: Find the total number of crimes recorded in the CRIME table:\n",
    "    Total crime records: 7807846\n",
    "    \n",
    "Problem 2: List community areas with per capita income less than 11000.\n",
    "     West Garfield Park\n",
    "     South Lawndale\n",
    "     Fuller Park\n",
    "     Riverdale\n",
    "     \n",
    "Problem 3: List all case numbers for crimes involving minors?\n",
    "\n",
    "Problem 4: List all kidnapping crimes involving a child?(children are not considered minors for the purposes of crime analysis)\n",
    "\n",
    "Problem 5: What kind of crimes were recorded at schools?\n",
    "    BATTERY\n",
    "    ASSAULT\n",
    "    OFFENSE INVOLVING CHILDREN\n",
    "    THEFT\n",
    "    CRIMINAL TRESPASS\n",
    "    MOTOR VEHICLE THEFT\n",
    "    OTHER OFFENSE\n",
    "    CRIMINAL DAMAGE\n",
    "    BURGLARY\n",
    "    WEAPONS VIOLATION\n",
    "    PUBLIC PEACE VIOLATION\n",
    "    CRIMINAL SEXUAL ASSAULT\n",
    "    SEX OFFENSE\n",
    "    LIQUOR LAW VIOLATION\n",
    "    NARCOTICS\n",
    "    STALKING\n",
    "    DECEPTIVE PRACTICE\n",
    "    ROBBERY\n",
    "    INTIMIDATION\n",
    "    HOMICIDE\n",
    "    CONCEALED CARRY LICENSE VIOLATION\n",
    "    ARSON\n",
    "    OBSCENITY\n",
    "    KIDNAPPING\n",
    "    OTHER NARCOTIC VIOLATION\n",
    "    INTERFERENCE WITH PUBLIC OFFICER\n",
    "    CRIM SEXUAL ASSAULT\n",
    "    PUBLIC INDECENCY\n",
    "    GAMBLING\n",
    "    PROSTITUTION\n",
    "    HUMAN TRAFFICKING\n",
    "    RITUALISM\n",
    "    \n",
    "Problem 6: List the average safety score for all types of schools!\n",
    "    ES: 20650\n",
    "    HS: 4218\n",
    "    MS: 528\n",
    "    \n",
    "Problem 7: List 5 community areas with highest % of households below poverty line.\n",
    "    Riverdale\n",
    "    Fuller Park\n",
    "    Englewood\n",
    "    North Lawndale\n",
    "    East Garfield Park   \n",
    "\n",
    "Problem 8: Which community area(number) is most crime prone?\n",
    "\n",
    "Problem 9: Use a sub-query to find the name of the community area with highest hardship index.\n",
    "\n",
    "Problem 10: Use a sub-query to determine the Community Area Name with most number of crimes?\n"
   ]
  },
  {
   "cell_type": "code",
   "execution_count": null,
   "metadata": {},
   "outputs": [],
   "source": []
  }
 ],
 "metadata": {
  "kernelspec": {
   "display_name": "Python 3 (ipykernel)",
   "language": "python",
   "name": "python3"
  },
  "language_info": {
   "codemirror_mode": {
    "name": "ipython",
    "version": 3
   },
   "file_extension": ".py",
   "mimetype": "text/x-python",
   "name": "python",
   "nbconvert_exporter": "python",
   "pygments_lexer": "ipython3",
   "version": "3.10.9"
  }
 },
 "nbformat": 4,
 "nbformat_minor": 2
}
