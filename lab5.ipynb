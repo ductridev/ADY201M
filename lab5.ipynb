{
 "cells": [
  {
   "cell_type": "code",
   "execution_count": 124,
   "metadata": {},
   "outputs": [
    {
     "name": "stdout",
     "output_type": "stream",
     "text": [
      "Requirement already satisfied: lxml in /Library/Frameworks/Python.framework/Versions/3.10/lib/python3.10/site-packages (4.9.2)\n",
      "Requirement already satisfied: selenium in /Library/Frameworks/Python.framework/Versions/3.10/lib/python3.10/site-packages (4.10.0)\n",
      "Requirement already satisfied: requests in /Library/Frameworks/Python.framework/Versions/3.10/lib/python3.10/site-packages (2.31.0)\n",
      "Requirement already satisfied: urllib3[socks]<3,>=1.26 in /Library/Frameworks/Python.framework/Versions/3.10/lib/python3.10/site-packages (from selenium) (2.0.3)\n",
      "Requirement already satisfied: trio~=0.17 in /Library/Frameworks/Python.framework/Versions/3.10/lib/python3.10/site-packages (from selenium) (0.22.0)\n",
      "Requirement already satisfied: trio-websocket~=0.9 in /Library/Frameworks/Python.framework/Versions/3.10/lib/python3.10/site-packages (from selenium) (0.10.3)\n",
      "Requirement already satisfied: certifi>=2021.10.8 in /Library/Frameworks/Python.framework/Versions/3.10/lib/python3.10/site-packages (from selenium) (2023.5.7)\n",
      "Requirement already satisfied: charset-normalizer<4,>=2 in /Library/Frameworks/Python.framework/Versions/3.10/lib/python3.10/site-packages (from requests) (3.1.0)\n",
      "Requirement already satisfied: idna<4,>=2.5 in /Library/Frameworks/Python.framework/Versions/3.10/lib/python3.10/site-packages (from requests) (3.4)\n",
      "Requirement already satisfied: attrs>=19.2.0 in /Library/Frameworks/Python.framework/Versions/3.10/lib/python3.10/site-packages (from trio~=0.17->selenium) (23.1.0)\n",
      "Requirement already satisfied: sortedcontainers in /Library/Frameworks/Python.framework/Versions/3.10/lib/python3.10/site-packages (from trio~=0.17->selenium) (2.4.0)\n",
      "Requirement already satisfied: async-generator>=1.9 in /Library/Frameworks/Python.framework/Versions/3.10/lib/python3.10/site-packages (from trio~=0.17->selenium) (1.10)\n",
      "Requirement already satisfied: outcome in /Library/Frameworks/Python.framework/Versions/3.10/lib/python3.10/site-packages (from trio~=0.17->selenium) (1.2.0)\n",
      "Requirement already satisfied: sniffio in /Library/Frameworks/Python.framework/Versions/3.10/lib/python3.10/site-packages (from trio~=0.17->selenium) (1.3.0)\n",
      "Requirement already satisfied: exceptiongroup>=1.0.0rc9 in /Library/Frameworks/Python.framework/Versions/3.10/lib/python3.10/site-packages (from trio~=0.17->selenium) (1.1.1)\n",
      "Requirement already satisfied: wsproto>=0.14 in /Library/Frameworks/Python.framework/Versions/3.10/lib/python3.10/site-packages (from trio-websocket~=0.9->selenium) (1.2.0)\n",
      "Requirement already satisfied: pysocks!=1.5.7,<2.0,>=1.5.6 in /Library/Frameworks/Python.framework/Versions/3.10/lib/python3.10/site-packages (from urllib3[socks]<3,>=1.26->selenium) (1.7.1)\n",
      "Requirement already satisfied: h11<1,>=0.9.0 in /Library/Frameworks/Python.framework/Versions/3.10/lib/python3.10/site-packages (from wsproto>=0.14->trio-websocket~=0.9->selenium) (0.14.0)\n"
     ]
    }
   ],
   "source": [
    "!pip install lxml selenium requests"
   ]
  },
  {
   "cell_type": "code",
   "execution_count": 125,
   "metadata": {},
   "outputs": [],
   "source": [
    "from selenium import webdriver\n",
    "from lxml import etree\n",
    "from selenium.webdriver.common.by import By\n",
    "import csv\n",
    "import time"
   ]
  },
  {
   "cell_type": "code",
   "execution_count": 126,
   "metadata": {},
   "outputs": [],
   "source": [
    "options = webdriver.ChromeOptions()\n",
    "options.add_argument('no-sandbox')\n",
    "# options.add_argument('headless')\n",
    "# options.add_argument(\"--enable-javascript\")\n",
    "\n",
    "driver = webdriver.Chrome(options=options)"
   ]
  },
  {
   "cell_type": "code",
   "execution_count": 127,
   "metadata": {},
   "outputs": [],
   "source": [
    "def index_pages(number):\n",
    "    mo_urls = []\n",
    "    url = 'https://batdongsan.com.vn/nha-dat-ban-da-nang/p%s' % number\n",
    "    driver.get(url)\n",
    "    m_urls = driver.find_elements(By.CLASS_NAME, 'js__product-link-for-product-id')\n",
    "    for m_url in m_urls:\n",
    "        mo_urls.append(m_url.get_attribute('href'))\n",
    "    return mo_urls"
   ]
  },
  {
   "cell_type": "code",
   "execution_count": 128,
   "metadata": {},
   "outputs": [],
   "source": [
    "def parse_pages(url):\n",
    "    print(url)\n",
    "    driver.get(url)\n",
    "\n",
    "    # Address\n",
    "    address = driver.find_element(By.CLASS_NAME, 'js__pr-address').text\n",
    "\n",
    "    # Price\n",
    "    price = driver.find_element(By.XPATH, '/html/body/div[6]/div/div[2]/div[1]/div[3]/div[3]/div/div/div[2]/span[3]').text\n",
    "    extPrice = driver.find_element(By.XPATH, '/html/body/div[6]/div/div[2]/div[1]/div[3]/div[1]/div[1]/span[3]').text\n",
    "\n",
    "    # Area\n",
    "    area = driver.find_element(By.XPATH, '/html/body/div[6]/div/div[2]/div[1]/div[3]/div[3]/div/div/div[1]/span[3]').text\n",
    "\n",
    "    # Room\n",
    "    room = driver.find_element(By.XPATH, '/html/body/div[6]/div/div[2]/div[1]/div[3]/div[3]/div/div/div[5]/span[3]').text\n",
    "\n",
    "    # Toilet\n",
    "    toilet = driver.find_element(By.XPATH, '/html/body/div[6]/div/div[2]/div[1]/div[3]/div[3]/div/div/div[6]/span[3]').text\n",
    "\n",
    "    # House Direction\n",
    "    hDirection = driver.find_element(By.XPATH, '/html/body/div[6]/div/div[2]/div[1]/div[3]/div[3]/div/div/div[3]/span[3]').text\n",
    "\n",
    "    # Balcony direction\n",
    "    bDirection = driver.find_element(By.XPATH, '/html/body/div[6]/div/div[2]/div[1]/div[3]/div[3]/div/div/div[4]/span[3]').text\n",
    "\n",
    "    return zip(address, price, extPrice, area, room, toilet, hDirection, bDirection)\n",
    "    #return ranking"
   ]
  },
  {
   "cell_type": "code",
   "execution_count": 129,
   "metadata": {},
   "outputs": [],
   "source": [
    "def save_results(data):\n",
    "    with open('lab5.csv', 'a', encoding=\"utf-8-sig\") as fp:\n",
    "        writer = csv.writer(fp)\n",
    "        writer.writerow(data)"
   ]
  },
  {
   "cell_type": "code",
   "execution_count": 130,
   "metadata": {},
   "outputs": [
    {
     "name": "stdout",
     "output_type": "stream",
     "text": [
      "https://batdongsan.com.vn/ban-dat-nen-du-an-pho-hoang-the-thien-phuong-hoa-xuan-prj-dream-home-kdt-hoa-xuan/ban-mt-khu-dao-1-dtd-5x26m-130m2-gia-4-75-ty-thuong-luong-nhe-pr37471650\n",
      "https://batdongsan.com.vn/ban-dat-nen-du-an-pho-hoang-the-thien-phuong-hoa-xuan-prj-dream-home-kdt-hoa-xuan/ban-mt-khu-dao-1-dtd-5x26m-130m2-gia-4-75-ty-thuong-luong-nhe-pr37471650\n"
     ]
    },
    {
     "ename": "NoSuchElementException",
     "evalue": "Message: no such element: Unable to locate element: {\"method\":\"css selector\",\"selector\":\".js__pr-address\"}\n  (Session info: chrome=114.0.5735.133); For documentation on this error, please visit: https://www.selenium.dev/documentation/webdriver/troubleshooting/errors#no-such-element-exception\nStacktrace:\n0   chromedriver                        0x000000010c8c26b8 chromedriver + 4937400\n1   chromedriver                        0x000000010c8b9b73 chromedriver + 4901747\n2   chromedriver                        0x000000010c477616 chromedriver + 435734\n3   chromedriver                        0x000000010c4bae0f chromedriver + 712207\n4   chromedriver                        0x000000010c4bb0a1 chromedriver + 712865\n5   chromedriver                        0x000000010c4fc9a4 chromedriver + 981412\n6   chromedriver                        0x000000010c4df03d chromedriver + 860221\n7   chromedriver                        0x000000010c4f9e76 chromedriver + 970358\n8   chromedriver                        0x000000010c4dede3 chromedriver + 859619\n9   chromedriver                        0x000000010c4acd7f chromedriver + 654719\n10  chromedriver                        0x000000010c4ae0de chromedriver + 659678\n11  chromedriver                        0x000000010c87e2ad chromedriver + 4657837\n12  chromedriver                        0x000000010c883130 chromedriver + 4677936\n13  chromedriver                        0x000000010c889def chromedriver + 4705775\n14  chromedriver                        0x000000010c88405a chromedriver + 4681818\n15  chromedriver                        0x000000010c85692c chromedriver + 4495660\n16  chromedriver                        0x000000010c8a1838 chromedriver + 4802616\n17  chromedriver                        0x000000010c8a19b7 chromedriver + 4802999\n18  chromedriver                        0x000000010c8b299f chromedriver + 4872607\n19  libsystem_pthread.dylib             0x00007fff206488fc _pthread_start + 224\n20  libsystem_pthread.dylib             0x00007fff20644443 thread_start + 15\n",
     "output_type": "error",
     "traceback": [
      "\u001b[0;31m---------------------------------------------------------------------------\u001b[0m",
      "\u001b[0;31mNoSuchElementException\u001b[0m                    Traceback (most recent call last)",
      "Cell \u001b[0;32mIn[130], line 6\u001b[0m\n\u001b[1;32m      4\u001b[0m time\u001b[39m.\u001b[39msleep(\u001b[39m15\u001b[39m)\n\u001b[1;32m      5\u001b[0m \u001b[39mprint\u001b[39m(movie_url)\n\u001b[0;32m----> 6\u001b[0m results \u001b[39m=\u001b[39m parse_pages(movie_url)\n\u001b[1;32m      7\u001b[0m \u001b[39mfor\u001b[39;00m result \u001b[39min\u001b[39;00m results:\n\u001b[1;32m      8\u001b[0m     save_results(result)\n",
      "Cell \u001b[0;32mIn[128], line 6\u001b[0m, in \u001b[0;36mparse_pages\u001b[0;34m(url)\u001b[0m\n\u001b[1;32m      3\u001b[0m driver\u001b[39m.\u001b[39mget(url)\n\u001b[1;32m      5\u001b[0m \u001b[39m# Address\u001b[39;00m\n\u001b[0;32m----> 6\u001b[0m address \u001b[39m=\u001b[39m driver\u001b[39m.\u001b[39;49mfind_element(By\u001b[39m.\u001b[39;49mCLASS_NAME, \u001b[39m'\u001b[39;49m\u001b[39mjs__pr-address\u001b[39;49m\u001b[39m'\u001b[39;49m)\u001b[39m.\u001b[39mtext\n\u001b[1;32m      8\u001b[0m \u001b[39m# Price\u001b[39;00m\n\u001b[1;32m      9\u001b[0m price \u001b[39m=\u001b[39m driver\u001b[39m.\u001b[39mfind_element(By\u001b[39m.\u001b[39mXPATH, \u001b[39m'\u001b[39m\u001b[39m/html/body/div[6]/div/div[2]/div[1]/div[3]/div[3]/div/div/div[2]/span[3]\u001b[39m\u001b[39m'\u001b[39m)\u001b[39m.\u001b[39mtext\n",
      "File \u001b[0;32m/Library/Frameworks/Python.framework/Versions/3.10/lib/python3.10/site-packages/selenium/webdriver/remote/webdriver.py:740\u001b[0m, in \u001b[0;36mWebDriver.find_element\u001b[0;34m(self, by, value)\u001b[0m\n\u001b[1;32m    737\u001b[0m     by \u001b[39m=\u001b[39m By\u001b[39m.\u001b[39mCSS_SELECTOR\n\u001b[1;32m    738\u001b[0m     value \u001b[39m=\u001b[39m \u001b[39mf\u001b[39m\u001b[39m'\u001b[39m\u001b[39m[name=\u001b[39m\u001b[39m\"\u001b[39m\u001b[39m{\u001b[39;00mvalue\u001b[39m}\u001b[39;00m\u001b[39m\"\u001b[39m\u001b[39m]\u001b[39m\u001b[39m'\u001b[39m\n\u001b[0;32m--> 740\u001b[0m \u001b[39mreturn\u001b[39;00m \u001b[39mself\u001b[39;49m\u001b[39m.\u001b[39;49mexecute(Command\u001b[39m.\u001b[39;49mFIND_ELEMENT, {\u001b[39m\"\u001b[39;49m\u001b[39musing\u001b[39;49m\u001b[39m\"\u001b[39;49m: by, \u001b[39m\"\u001b[39;49m\u001b[39mvalue\u001b[39;49m\u001b[39m\"\u001b[39;49m: value})[\u001b[39m\"\u001b[39m\u001b[39mvalue\u001b[39m\u001b[39m\"\u001b[39m]\n",
      "File \u001b[0;32m/Library/Frameworks/Python.framework/Versions/3.10/lib/python3.10/site-packages/selenium/webdriver/remote/webdriver.py:346\u001b[0m, in \u001b[0;36mWebDriver.execute\u001b[0;34m(self, driver_command, params)\u001b[0m\n\u001b[1;32m    344\u001b[0m response \u001b[39m=\u001b[39m \u001b[39mself\u001b[39m\u001b[39m.\u001b[39mcommand_executor\u001b[39m.\u001b[39mexecute(driver_command, params)\n\u001b[1;32m    345\u001b[0m \u001b[39mif\u001b[39;00m response:\n\u001b[0;32m--> 346\u001b[0m     \u001b[39mself\u001b[39;49m\u001b[39m.\u001b[39;49merror_handler\u001b[39m.\u001b[39;49mcheck_response(response)\n\u001b[1;32m    347\u001b[0m     response[\u001b[39m\"\u001b[39m\u001b[39mvalue\u001b[39m\u001b[39m\"\u001b[39m] \u001b[39m=\u001b[39m \u001b[39mself\u001b[39m\u001b[39m.\u001b[39m_unwrap_value(response\u001b[39m.\u001b[39mget(\u001b[39m\"\u001b[39m\u001b[39mvalue\u001b[39m\u001b[39m\"\u001b[39m, \u001b[39mNone\u001b[39;00m))\n\u001b[1;32m    348\u001b[0m     \u001b[39mreturn\u001b[39;00m response\n",
      "File \u001b[0;32m/Library/Frameworks/Python.framework/Versions/3.10/lib/python3.10/site-packages/selenium/webdriver/remote/errorhandler.py:245\u001b[0m, in \u001b[0;36mErrorHandler.check_response\u001b[0;34m(self, response)\u001b[0m\n\u001b[1;32m    243\u001b[0m         alert_text \u001b[39m=\u001b[39m value[\u001b[39m\"\u001b[39m\u001b[39malert\u001b[39m\u001b[39m\"\u001b[39m]\u001b[39m.\u001b[39mget(\u001b[39m\"\u001b[39m\u001b[39mtext\u001b[39m\u001b[39m\"\u001b[39m)\n\u001b[1;32m    244\u001b[0m     \u001b[39mraise\u001b[39;00m exception_class(message, screen, stacktrace, alert_text)  \u001b[39m# type: ignore[call-arg]  # mypy is not smart enough here\u001b[39;00m\n\u001b[0;32m--> 245\u001b[0m \u001b[39mraise\u001b[39;00m exception_class(message, screen, stacktrace)\n",
      "\u001b[0;31mNoSuchElementException\u001b[0m: Message: no such element: Unable to locate element: {\"method\":\"css selector\",\"selector\":\".js__pr-address\"}\n  (Session info: chrome=114.0.5735.133); For documentation on this error, please visit: https://www.selenium.dev/documentation/webdriver/troubleshooting/errors#no-such-element-exception\nStacktrace:\n0   chromedriver                        0x000000010c8c26b8 chromedriver + 4937400\n1   chromedriver                        0x000000010c8b9b73 chromedriver + 4901747\n2   chromedriver                        0x000000010c477616 chromedriver + 435734\n3   chromedriver                        0x000000010c4bae0f chromedriver + 712207\n4   chromedriver                        0x000000010c4bb0a1 chromedriver + 712865\n5   chromedriver                        0x000000010c4fc9a4 chromedriver + 981412\n6   chromedriver                        0x000000010c4df03d chromedriver + 860221\n7   chromedriver                        0x000000010c4f9e76 chromedriver + 970358\n8   chromedriver                        0x000000010c4dede3 chromedriver + 859619\n9   chromedriver                        0x000000010c4acd7f chromedriver + 654719\n10  chromedriver                        0x000000010c4ae0de chromedriver + 659678\n11  chromedriver                        0x000000010c87e2ad chromedriver + 4657837\n12  chromedriver                        0x000000010c883130 chromedriver + 4677936\n13  chromedriver                        0x000000010c889def chromedriver + 4705775\n14  chromedriver                        0x000000010c88405a chromedriver + 4681818\n15  chromedriver                        0x000000010c85692c chromedriver + 4495660\n16  chromedriver                        0x000000010c8a1838 chromedriver + 4802616\n17  chromedriver                        0x000000010c8a19b7 chromedriver + 4802999\n18  chromedriver                        0x000000010c8b299f chromedriver + 4872607\n19  libsystem_pthread.dylib             0x00007fff206488fc _pthread_start + 224\n20  libsystem_pthread.dylib             0x00007fff20644443 thread_start + 15\n"
     ]
    }
   ],
   "source": [
    "for i in range(1, 2):\n",
    "    movie_urls = index_pages(i)\n",
    "    for movie_url in movie_urls:\n",
    "        time.sleep(15)\n",
    "        print(movie_url)\n",
    "        results = parse_pages(movie_url)\n",
    "        for result in results:\n",
    "            save_results(result)\n",
    "        time.sleep(15)"
   ]
  },
  {
   "cell_type": "code",
   "execution_count": null,
   "metadata": {},
   "outputs": [],
   "source": []
  }
 ],
 "metadata": {
  "kernelspec": {
   "display_name": "Python 3",
   "language": "python",
   "name": "python3"
  },
  "language_info": {
   "codemirror_mode": {
    "name": "ipython",
    "version": 3
   },
   "file_extension": ".py",
   "mimetype": "text/x-python",
   "name": "python",
   "nbconvert_exporter": "python",
   "pygments_lexer": "ipython3",
   "version": "3.10.11"
  },
  "orig_nbformat": 4
 },
 "nbformat": 4,
 "nbformat_minor": 2
}
