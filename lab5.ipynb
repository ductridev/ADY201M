{
 "cells": [
  {
   "cell_type": "code",
   "execution_count": 10,
   "metadata": {},
   "outputs": [
    {
     "name": "stdout",
     "output_type": "stream",
     "text": [
      "Collecting lxml\n",
      "  Using cached lxml-4.9.2-cp310-cp310-macosx_10_15_x86_64.whl (4.7 MB)\n",
      "Requirement already satisfied: selenium in /Library/Frameworks/Python.framework/Versions/3.10/lib/python3.10/site-packages (4.10.0)\n",
      "Requirement already satisfied: requests in /Library/Frameworks/Python.framework/Versions/3.10/lib/python3.10/site-packages (2.31.0)\n",
      "Requirement already satisfied: urllib3[socks]<3,>=1.26 in /Library/Frameworks/Python.framework/Versions/3.10/lib/python3.10/site-packages (from selenium) (2.0.3)\n",
      "Requirement already satisfied: trio~=0.17 in /Library/Frameworks/Python.framework/Versions/3.10/lib/python3.10/site-packages (from selenium) (0.22.0)\n",
      "Requirement already satisfied: trio-websocket~=0.9 in /Library/Frameworks/Python.framework/Versions/3.10/lib/python3.10/site-packages (from selenium) (0.10.3)\n",
      "Requirement already satisfied: certifi>=2021.10.8 in /Library/Frameworks/Python.framework/Versions/3.10/lib/python3.10/site-packages (from selenium) (2023.5.7)\n",
      "Requirement already satisfied: charset-normalizer<4,>=2 in /Library/Frameworks/Python.framework/Versions/3.10/lib/python3.10/site-packages (from requests) (3.1.0)\n",
      "Requirement already satisfied: idna<4,>=2.5 in /Library/Frameworks/Python.framework/Versions/3.10/lib/python3.10/site-packages (from requests) (3.4)\n",
      "Requirement already satisfied: attrs>=19.2.0 in /Library/Frameworks/Python.framework/Versions/3.10/lib/python3.10/site-packages (from trio~=0.17->selenium) (23.1.0)\n",
      "Requirement already satisfied: sortedcontainers in /Library/Frameworks/Python.framework/Versions/3.10/lib/python3.10/site-packages (from trio~=0.17->selenium) (2.4.0)\n",
      "Requirement already satisfied: async-generator>=1.9 in /Library/Frameworks/Python.framework/Versions/3.10/lib/python3.10/site-packages (from trio~=0.17->selenium) (1.10)\n",
      "Requirement already satisfied: outcome in /Library/Frameworks/Python.framework/Versions/3.10/lib/python3.10/site-packages (from trio~=0.17->selenium) (1.2.0)\n",
      "Requirement already satisfied: sniffio in /Library/Frameworks/Python.framework/Versions/3.10/lib/python3.10/site-packages (from trio~=0.17->selenium) (1.3.0)\n",
      "Requirement already satisfied: exceptiongroup>=1.0.0rc9 in /Library/Frameworks/Python.framework/Versions/3.10/lib/python3.10/site-packages (from trio~=0.17->selenium) (1.1.1)\n",
      "Requirement already satisfied: wsproto>=0.14 in /Library/Frameworks/Python.framework/Versions/3.10/lib/python3.10/site-packages (from trio-websocket~=0.9->selenium) (1.2.0)\n",
      "Requirement already satisfied: pysocks!=1.5.7,<2.0,>=1.5.6 in /Library/Frameworks/Python.framework/Versions/3.10/lib/python3.10/site-packages (from urllib3[socks]<3,>=1.26->selenium) (1.7.1)\n",
      "Requirement already satisfied: h11<1,>=0.9.0 in /Library/Frameworks/Python.framework/Versions/3.10/lib/python3.10/site-packages (from wsproto>=0.14->trio-websocket~=0.9->selenium) (0.14.0)\n",
      "Installing collected packages: lxml\n",
      "Successfully installed lxml-4.9.2\n"
     ]
    }
   ],
   "source": [
    "!pip install lxml selenium requests"
   ]
  },
  {
   "cell_type": "code",
   "execution_count": 48,
   "metadata": {},
   "outputs": [],
   "source": [
    "from selenium import webdriver\n",
    "from lxml import etree\n",
    "from selenium.webdriver.common.by import By\n",
    "import csv\n",
    "import time"
   ]
  },
  {
   "cell_type": "code",
   "execution_count": 49,
   "metadata": {},
   "outputs": [],
   "source": [
    "options = webdriver.ChromeOptions()\n",
    "options.add_argument('no-sandbox')\n",
    "# options.add_argument('headless')\n",
    "# options.add_argument(\"--enable-javascript\")\n",
    "\n",
    "driver = webdriver.Chrome(options=options)\n",
    "\n",
    "headers = {'User-Agent': 'Mozilla/5.0 (Windows NT 6.1) AppleWebKit/537.36 (KHTML, like Gecko) Chrome/41.0.2228.0 Safari/537.3', 'Accept':\n",
    "'text/html,application/xhtml+xml,application/xml;q=0.9,image/avif,image/webp,image/apng,*/*;q=0.8,application/signed-exchange;v=b3;q=0.7', 'Origin': 'https://batdongsan.com.vn/',\n",
    "'Sec-Ch-Ua-Platform':\n",
    "\"macOS\"}"
   ]
  },
  {
   "cell_type": "code",
   "execution_count": 37,
   "metadata": {},
   "outputs": [
    {
     "data": {
      "text/plain": [
       "['https://batdongsan.com.vn/ban-dat-nen-du-an-pho-hoang-the-thien-phuong-hoa-xuan-prj-dream-home-kdt-hoa-xuan/ban-mt-khu-dao-1-dtd-5x26m-130m2-gia-4-75-ty-thuong-luong-nhe-pr37471650',\n",
       " 'https://batdongsan.com.vn/ban-nha-rieng-phuong-an-khe/chinh-chu-b-tttp-da-ng-full-noi-that-ninh-cao-g-truong-cho-sieu-thi-don-cong-pr37345199',\n",
       " 'https://batdongsan.com.vn/ban-dat-duong-tran-thi-ly-prj-sun-cosmo-residence/-biet-thu-lo-goc-chinh-chu-da-co-so-do-vinh-vien-vi-tri-dep-sat-song-han-tai-da-nang-pr37435266',\n",
       " 'https://batdongsan.com.vn/ban-can-ho-chung-cu-phuong-hoa-hai-prj-fpt-city-da-nang/chi-5-suat-ngoai-giao-thanh-toan-465-trieu-nhan-nha-o-ngay-tai-so-huu-lau-i-pr37458815',\n",
       " 'https://batdongsan.com.vn/ban-dat-duong-30-4-1-phuong-hoa-cuong-bac/can-ban-lo-2mt-30-4-va-7-5m-dang-cho-thue-165tr-thang-pr37270441',\n",
       " 'https://batdongsan.com.vn/ban-can-ho-chung-cu-phuong-hoa-hai-prj-fpt-city-da-nang/nhan-ban-giao-toa-2-chi-voi-570tr-tang-goi-mien-lai-suat-0-12-thang-mien-goc-24-thang-pr37444555',\n",
       " 'https://batdongsan.com.vn/ban-nha-mat-pho-pho-nguyen-xi-phuong-hoa-minh/ban-tien-95-dtd-125m2-x-4-tang-dtsd-264m2-gia-6-090-ty-pr37347165',\n",
       " 'https://batdongsan.com.vn/ban-nha-rieng-duong-nguyen-van-linh-phuong-nam-duong/ban-hem-82-dtd-140m2-ngang-7m-dtsd-110m2-gia-5-65-ty-pr37347234',\n",
       " 'https://batdongsan.com.vn/ban-can-ho-chung-cu-duong-pham-kiet-phuong-khue-my-prj-the-sang-residence/ban-cao-cap-2-png-ngu-view-bien-tang-19-trung-tam-da-nang-so-huu-lau-dai-4-4-ty-pr32333863',\n",
       " 'https://batdongsan.com.vn/ban-nha-rieng-duong-nui-thanh-phuong-hoa-thuan-dong/chinh-chu-ban-cap-4-kiet-gan-cau-tran-thi-ly-trung-tam-quan-hai-chau-da-nang-pr37463057',\n",
       " 'https://batdongsan.com.vn/ban-can-ho-chung-cu-duong-bach-dang-phuong-binh-thuan-prj-the-filmore-da-nang/ban-nguyen-tang-du-an-gia-goc-tu-chu-u-tu-pr37464388',\n",
       " 'https://batdongsan.com.vn/ban-dat-duong-luong-the-vinh-phuong-an-hai-dong/chinh-chu-em-can-ban-lo-sieu-dep-2-mat-tien-thich-hop-xay-can-ho-pr37464067',\n",
       " 'https://batdongsan.com.vn/ban-dat-nen-du-an-duong-doan-khue-1-phuong-khue-my-prj-khu-do-thi-nam-cau-tuyen-son/ban-2-mat-tien-viet-a-pr37462018',\n",
       " 'https://batdongsan.com.vn/ban-dat-nen-du-an-phuong-hoa-hai-prj-fpt-city-da-nang/giam-350-trieu-ban-lo-tam-huyet-khu-do-thi-sinh-thai-nang-pr37453408',\n",
       " 'https://batdongsan.com.vn/ban-can-ho-chung-cu-duong-tran-thi-ly-prj-sun-cosmo-residence/tong-hop-quy-ngoai-giao-studio-1pn-tu-1-5-ty-2pn-tu-2-5-ty-2pn-tu-4-8-ty-pr37452875',\n",
       " 'https://batdongsan.com.vn/ban-nha-rieng-duong-nui-thanh-phuong-hoa-thuan-dong/chinh-chu-ban-3-tang-tttp-da-nang-full-noi-that-ho-ca-koi-an-ninh-cao-gia-6-7-ty-pr37452318',\n",
       " 'https://batdongsan.com.vn/ban-can-ho-chung-cu-duong-pham-kiet-phuong-khue-my-prj-the-sang-residence/co-i-ki-so-huu-cao-cap-ngay-sat-bien-vo-nguyen-giap-gia-tot-nhat-thi-truong-pr36335540',\n",
       " 'https://batdongsan.com.vn/ban-dat-pho-ly-thuong-kiet-phuong-thach-thang/chinh-chu-can-ban-duong-da-nang-1500m2-pr37449505',\n",
       " 'https://batdongsan.com.vn/ban-can-ho-chung-cu-duong-an-trung-2-phuong-an-hai-tay-prj-the-monarchy/that-su-rat-tien-toi-ban-gap-2pn-da-co-so-hong-gia-cuc-re-dang-co-hop-dong-thue-pr37451163',\n",
       " 'https://batdongsan.com.vn/ban-dat-duong-quoc-lo-1a-xa-hoa-phuoc/ban-2-mat-tien-ql1a-vang-da-nang-pr35134180']"
      ]
     },
     "execution_count": 37,
     "metadata": {},
     "output_type": "execute_result"
    }
   ],
   "source": [
    "def index_pages(number):\n",
    "    mo_urls = []\n",
    "    url = 'https://batdongsan.com.vn/nha-dat-ban-da-nang/p%s' % number\n",
    "    driver.get(url)\n",
    "    m_urls = driver.find_elements(By.CLASS_NAME, 'js__product-link-for-product-id')\n",
    "    for m_url in m_urls:\n",
    "        mo_urls.append(m_url.get_attribute('href'))\n",
    "    return mo_urls"
   ]
  },
  {
   "cell_type": "code",
   "execution_count": 42,
   "metadata": {},
   "outputs": [
    {
     "data": {
      "text/plain": [
       "('Dự án Sun Cosmo Residence, Quận Ngũ Hành Sơn, Đà Nẵng',\n",
       " '1,5 tỷ',\n",
       " '~51,72 triệu/m²',\n",
       " '29 m²',\n",
       " '1 phòng',\n",
       " '1 phòng',\n",
       " 'Đông - Nam',\n",
       " 'Đông - Nam')"
      ]
     },
     "execution_count": 42,
     "metadata": {},
     "output_type": "execute_result"
    }
   ],
   "source": [
    "def parse_pages(url):\n",
    "    driver.get(url)\n",
    "\n",
    "    # Address\n",
    "    address = driver.find_element(By.CLASS_NAME, 'js__pr-address').text\n",
    "\n",
    "    # Price\n",
    "    price = driver.find_element(By.XPATH, '/html/body/div[6]/div/div[2]/div[1]/div[3]/div[3]/div/div/div[2]/span[3]').text\n",
    "    extPrice = driver.find_element(By.XPATH, '/html/body/div[6]/div/div[2]/div[1]/div[3]/div[1]/div[1]/span[3]').text\n",
    "\n",
    "    # Area\n",
    "    area = driver.find_element(By.XPATH, '/html/body/div[6]/div/div[2]/div[1]/div[3]/div[3]/div/div/div[1]/span[3]').text\n",
    "\n",
    "    # Room\n",
    "    room = driver.find_element(By.XPATH, '/html/body/div[6]/div/div[2]/div[1]/div[3]/div[3]/div/div/div[5]/span[3]').text\n",
    "\n",
    "    # Toilet\n",
    "    toilet = driver.find_element(By.XPATH, '/html/body/div[6]/div/div[2]/div[1]/div[3]/div[3]/div/div/div[6]/span[3]').text\n",
    "\n",
    "    # House Direction\n",
    "    hDirection = driver.find_element(By.XPATH, '/html/body/div[6]/div/div[2]/div[1]/div[3]/div[3]/div/div/div[3]/span[3]').text\n",
    "\n",
    "    # Balcony direction\n",
    "    bDirection = driver.find_element(By.XPATH, '/html/body/div[6]/div/div[2]/div[1]/div[3]/div[3]/div/div/div[4]/span[3]').text\n",
    "\n",
    "    return zip(address, price, extPrice, area, room, toilet, hDirection, bDirection)\n",
    "    #return ranking\n",
    "parse_pages(\"https://batdongsan.com.vn/ban-can-ho-chung-cu-duong-tran-thi-ly-prj-sun-cosmo-residence/tong-hop-quy-ngoai-giao-studio-1pn-tu-1-5-ty-2pn-tu-2-5-ty-2pn-tu-4-8-ty-pr37452875\")"
   ]
  },
  {
   "cell_type": "code",
   "execution_count": null,
   "metadata": {},
   "outputs": [],
   "source": [
    "def save_results(data):\n",
    "    with open('lab5.csv', 'a', encoding=\"utf-8-sig\") as fp:\n",
    "        writer = csv.writer(fp)\n",
    "        writer.writerow(data)"
   ]
  },
  {
   "cell_type": "code",
   "execution_count": 50,
   "metadata": {},
   "outputs": [
    {
     "ename": "KeyboardInterrupt",
     "evalue": "",
     "output_type": "error",
     "traceback": [
      "\u001b[0;31m---------------------------------------------------------------------------\u001b[0m",
      "\u001b[0;31mKeyboardInterrupt\u001b[0m                         Traceback (most recent call last)",
      "Cell \u001b[0;32mIn[50], line 5\u001b[0m\n\u001b[1;32m      3\u001b[0m movie_urls \u001b[39m=\u001b[39m index_pages(i)\n\u001b[1;32m      4\u001b[0m \u001b[39mfor\u001b[39;00m movie_url \u001b[39min\u001b[39;00m movie_urls:\n\u001b[0;32m----> 5\u001b[0m     time\u001b[39m.\u001b[39;49msleep(\u001b[39m1500\u001b[39;49m)\n\u001b[1;32m      6\u001b[0m     results \u001b[39m=\u001b[39m parse_pages(movie_url)\n\u001b[1;32m      7\u001b[0m     \u001b[39mfor\u001b[39;00m result \u001b[39min\u001b[39;00m results:\n",
      "\u001b[0;31mKeyboardInterrupt\u001b[0m: "
     ]
    }
   ],
   "source": [
    "num = 0\n",
    "for i in range(1, 2):\n",
    "    movie_urls = index_pages(i)\n",
    "    for movie_url in movie_urls:\n",
    "        time.sleep(1500)\n",
    "        results = parse_pages(movie_url)\n",
    "        for result in results:\n",
    "            num += 1\n",
    "            save_results(result)\n",
    "            print('No ' + str(num) + 'Saved')\n",
    "        time.sleep(1500)"
   ]
  },
  {
   "cell_type": "code",
   "execution_count": null,
   "metadata": {},
   "outputs": [],
   "source": []
  }
 ],
 "metadata": {
  "kernelspec": {
   "display_name": "Python 3",
   "language": "python",
   "name": "python3"
  },
  "language_info": {
   "codemirror_mode": {
    "name": "ipython",
    "version": 3
   },
   "file_extension": ".py",
   "mimetype": "text/x-python",
   "name": "python",
   "nbconvert_exporter": "python",
   "pygments_lexer": "ipython3",
   "version": "3.10.11"
  },
  "orig_nbformat": 4
 },
 "nbformat": 4,
 "nbformat_minor": 2
}
