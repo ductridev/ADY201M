{
 "cells": [
  {
   "cell_type": "code",
   "execution_count": 143,
   "metadata": {},
   "outputs": [
    {
     "name": "stdout",
     "output_type": "stream",
     "text": [
      "Requirement already satisfied: lxml in /Library/Frameworks/Python.framework/Versions/3.10/lib/python3.10/site-packages (4.9.2)\n",
      "Requirement already satisfied: selenium in /Library/Frameworks/Python.framework/Versions/3.10/lib/python3.10/site-packages (4.10.0)\n",
      "Requirement already satisfied: requests in /Library/Frameworks/Python.framework/Versions/3.10/lib/python3.10/site-packages (2.31.0)\n",
      "Requirement already satisfied: urllib3[socks]<3,>=1.26 in /Library/Frameworks/Python.framework/Versions/3.10/lib/python3.10/site-packages (from selenium) (2.0.3)\n",
      "Requirement already satisfied: trio~=0.17 in /Library/Frameworks/Python.framework/Versions/3.10/lib/python3.10/site-packages (from selenium) (0.22.0)\n",
      "Requirement already satisfied: trio-websocket~=0.9 in /Library/Frameworks/Python.framework/Versions/3.10/lib/python3.10/site-packages (from selenium) (0.10.3)\n",
      "Requirement already satisfied: certifi>=2021.10.8 in /Library/Frameworks/Python.framework/Versions/3.10/lib/python3.10/site-packages (from selenium) (2023.5.7)\n",
      "Requirement already satisfied: charset-normalizer<4,>=2 in /Library/Frameworks/Python.framework/Versions/3.10/lib/python3.10/site-packages (from requests) (3.1.0)\n",
      "Requirement already satisfied: idna<4,>=2.5 in /Library/Frameworks/Python.framework/Versions/3.10/lib/python3.10/site-packages (from requests) (3.4)\n",
      "Requirement already satisfied: attrs>=19.2.0 in /Library/Frameworks/Python.framework/Versions/3.10/lib/python3.10/site-packages (from trio~=0.17->selenium) (23.1.0)\n",
      "Requirement already satisfied: sortedcontainers in /Library/Frameworks/Python.framework/Versions/3.10/lib/python3.10/site-packages (from trio~=0.17->selenium) (2.4.0)\n",
      "Requirement already satisfied: async-generator>=1.9 in /Library/Frameworks/Python.framework/Versions/3.10/lib/python3.10/site-packages (from trio~=0.17->selenium) (1.10)\n",
      "Requirement already satisfied: outcome in /Library/Frameworks/Python.framework/Versions/3.10/lib/python3.10/site-packages (from trio~=0.17->selenium) (1.2.0)\n",
      "Requirement already satisfied: sniffio in /Library/Frameworks/Python.framework/Versions/3.10/lib/python3.10/site-packages (from trio~=0.17->selenium) (1.3.0)\n",
      "Requirement already satisfied: exceptiongroup>=1.0.0rc9 in /Library/Frameworks/Python.framework/Versions/3.10/lib/python3.10/site-packages (from trio~=0.17->selenium) (1.1.1)\n",
      "Requirement already satisfied: wsproto>=0.14 in /Library/Frameworks/Python.framework/Versions/3.10/lib/python3.10/site-packages (from trio-websocket~=0.9->selenium) (1.2.0)\n",
      "Requirement already satisfied: pysocks!=1.5.7,<2.0,>=1.5.6 in /Library/Frameworks/Python.framework/Versions/3.10/lib/python3.10/site-packages (from urllib3[socks]<3,>=1.26->selenium) (1.7.1)\n",
      "Requirement already satisfied: h11<1,>=0.9.0 in /Library/Frameworks/Python.framework/Versions/3.10/lib/python3.10/site-packages (from wsproto>=0.14->trio-websocket~=0.9->selenium) (0.14.0)\n"
     ]
    }
   ],
   "source": [
    "!pip install lxml selenium requests"
   ]
  },
  {
   "cell_type": "code",
   "execution_count": 144,
   "metadata": {},
   "outputs": [],
   "source": [
    "from selenium import webdriver\n",
    "from lxml import etree\n",
    "from selenium.webdriver.common.by import By\n",
    "import csv\n",
    "import time"
   ]
  },
  {
   "cell_type": "code",
   "execution_count": null,
   "metadata": {},
   "outputs": [],
   "source": []
  },
  {
   "cell_type": "code",
   "execution_count": 145,
   "metadata": {},
   "outputs": [],
   "source": [
    "def index_pages(number):\n",
    "    mo_urls = []\n",
    "    url = 'https://batdongsan.com.vn/nha-dat-ban-da-nang/p%s' % number\n",
    "    \n",
    "    options = webdriver.ChromeOptions()\n",
    "    options.add_argument('no-sandbox')\n",
    "    # options.add_argument('headless')\n",
    "    # options.add_argument(\"--enable-javascript\")\n",
    "\n",
    "    driver = webdriver.Chrome(options=options)\n",
    "\n",
    "    driver.get(url)\n",
    "    m_urls = driver.find_elements(By.CLASS_NAME, 'js__product-link-for-product-id')\n",
    "    for m_url in m_urls:\n",
    "        mo_urls.append(m_url.get_attribute('href'))\n",
    "    driver.close()\n",
    "    return mo_urls"
   ]
  },
  {
   "cell_type": "code",
   "execution_count": 146,
   "metadata": {},
   "outputs": [],
   "source": [
    "def parse_pages(url):\n",
    "    print(url)\n",
    "    options = webdriver.ChromeOptions()\n",
    "    options.add_argument('no-sandbox')\n",
    "    # options.add_argument('headless')\n",
    "    # options.add_argument(\"--enable-javascript\")\n",
    "\n",
    "    driver = webdriver.Chrome(options=options)\n",
    "\n",
    "    driver.get(url)\n",
    "\n",
    "    try:\n",
    "        # Address\n",
    "        address = driver.find_element(By.CLASS_NAME, 'js__pr-address').text\n",
    "\n",
    "        # Price\n",
    "        price = driver.find_element(By.XPATH, '/html/body/div[6]/div/div[2]/div[1]/div[3]/div[3]/div/div/div[2]/span[3]').text\n",
    "        extPrice = driver.find_element(By.XPATH, '/html/body/div[6]/div/div[2]/div[1]/div[3]/div[1]/div[1]/span[3]').text\n",
    "\n",
    "        # Area\n",
    "        area = driver.find_element(By.XPATH, '/html/body/div[6]/div/div[2]/div[1]/div[3]/div[3]/div/div/div[1]/span[3]').text\n",
    "\n",
    "        # Room\n",
    "        room = driver.find_element(By.XPATH, '/html/body/div[6]/div/div[2]/div[1]/div[3]/div[3]/div/div/div[5]/span[3]').text\n",
    "\n",
    "        # Toilet\n",
    "        toilet = driver.find_element(By.XPATH, '/html/body/div[6]/div/div[2]/div[1]/div[3]/div[3]/div/div/div[6]/span[3]').text\n",
    "\n",
    "        # House Direction\n",
    "        hDirection = driver.find_element(By.XPATH, '/html/body/div[6]/div/div[2]/div[1]/div[3]/div[3]/div/div/div[3]/span[3]').text\n",
    "\n",
    "        # Balcony direction\n",
    "        bDirection = driver.find_element(By.XPATH, '/html/body/div[6]/div/div[2]/div[1]/div[3]/div[3]/div/div/div[4]/span[3]').text\n",
    "\n",
    "        driver.close()\n",
    "        \n",
    "        return zip(address, price, extPrice, area, room, toilet, hDirection, bDirection)\n",
    "        #return ranking\n",
    "    except:\n",
    "        return zip(\"\", \"\", \"\", \"\", \"\", \"\", \"\", \"\")"
   ]
  },
  {
   "cell_type": "code",
   "execution_count": 147,
   "metadata": {},
   "outputs": [],
   "source": [
    "def save_results(data):\n",
    "    with open('lab5.csv', 'a', encoding=\"utf-8-sig\") as fp:\n",
    "        writer = csv.writer(fp)\n",
    "        writer.writerow(data)"
   ]
  },
  {
   "cell_type": "code",
   "execution_count": 148,
   "metadata": {},
   "outputs": [
    {
     "name": "stdout",
     "output_type": "stream",
     "text": [
      "https://batdongsan.com.vn/ban-dat-nen-du-an-pho-hoang-the-thien-phuong-hoa-xuan-prj-dream-home-kdt-hoa-xuan/ban-mt-khu-dao-1-dtd-5x26m-130m2-gia-4-75-ty-thuong-luong-nhe-pr37471650\n",
      "https://batdongsan.com.vn/ban-dat-nen-du-an-pho-hoang-the-thien-phuong-hoa-xuan-prj-dream-home-kdt-hoa-xuan/ban-mt-khu-dao-1-dtd-5x26m-130m2-gia-4-75-ty-thuong-luong-nhe-pr37471650\n",
      "https://batdongsan.com.vn/ban-nha-rieng-phuong-an-khe/chinh-chu-b-tttp-da-ng-full-noi-that-ninh-cao-g-truong-cho-sieu-thi-don-cong-pr37345199\n",
      "https://batdongsan.com.vn/ban-nha-rieng-phuong-an-khe/chinh-chu-b-tttp-da-ng-full-noi-that-ninh-cao-g-truong-cho-sieu-thi-don-cong-pr37345199\n",
      "https://batdongsan.com.vn/ban-dat-duong-tran-thi-ly-prj-sun-cosmo-residence/-biet-thu-lo-goc-chinh-chu-da-co-so-do-vinh-vien-vi-tri-dep-sat-song-han-tai-da-nang-pr37435266\n",
      "https://batdongsan.com.vn/ban-dat-duong-tran-thi-ly-prj-sun-cosmo-residence/-biet-thu-lo-goc-chinh-chu-da-co-so-do-vinh-vien-vi-tri-dep-sat-song-han-tai-da-nang-pr37435266\n",
      "https://batdongsan.com.vn/ban-can-ho-chung-cu-phuong-hoa-hai-prj-fpt-city-da-nang/chi-5-suat-ngoai-giao-thanh-toan-465-trieu-nhan-nha-o-ngay-tai-so-huu-lau-i-pr37458815\n",
      "https://batdongsan.com.vn/ban-can-ho-chung-cu-phuong-hoa-hai-prj-fpt-city-da-nang/chi-5-suat-ngoai-giao-thanh-toan-465-trieu-nhan-nha-o-ngay-tai-so-huu-lau-i-pr37458815\n",
      "https://batdongsan.com.vn/ban-dat-duong-30-4-1-phuong-hoa-cuong-bac/can-ban-lo-2mt-30-4-va-7-5m-dang-cho-thue-165tr-thang-pr37270441\n",
      "https://batdongsan.com.vn/ban-dat-duong-30-4-1-phuong-hoa-cuong-bac/can-ban-lo-2mt-30-4-va-7-5m-dang-cho-thue-165tr-thang-pr37270441\n",
      "https://batdongsan.com.vn/ban-can-ho-chung-cu-phuong-hoa-hai-prj-fpt-city-da-nang/nhan-ban-giao-toa-2-chi-voi-570tr-tang-goi-mien-lai-suat-0-12-thang-mien-goc-24-thang-pr37444555\n",
      "https://batdongsan.com.vn/ban-can-ho-chung-cu-phuong-hoa-hai-prj-fpt-city-da-nang/nhan-ban-giao-toa-2-chi-voi-570tr-tang-goi-mien-lai-suat-0-12-thang-mien-goc-24-thang-pr37444555\n",
      "https://batdongsan.com.vn/ban-nha-mat-pho-pho-nguyen-xi-phuong-hoa-minh/ban-tien-95-dtd-125m2-x-4-tang-dtsd-264m2-gia-6-090-ty-pr37347165\n",
      "https://batdongsan.com.vn/ban-nha-mat-pho-pho-nguyen-xi-phuong-hoa-minh/ban-tien-95-dtd-125m2-x-4-tang-dtsd-264m2-gia-6-090-ty-pr37347165\n"
     ]
    },
    {
     "ename": "KeyboardInterrupt",
     "evalue": "",
     "output_type": "error",
     "traceback": [
      "\u001b[0;31m---------------------------------------------------------------------------\u001b[0m",
      "\u001b[0;31mKeyboardInterrupt\u001b[0m                         Traceback (most recent call last)",
      "Cell \u001b[0;32mIn[148], line 5\u001b[0m\n\u001b[1;32m      3\u001b[0m \u001b[39mfor\u001b[39;00m movie_url \u001b[39min\u001b[39;00m movie_urls:\n\u001b[1;32m      4\u001b[0m     \u001b[39mprint\u001b[39m(movie_url)\n\u001b[0;32m----> 5\u001b[0m     results \u001b[39m=\u001b[39m parse_pages(movie_url)\n\u001b[1;32m      6\u001b[0m     \u001b[39mfor\u001b[39;00m result \u001b[39min\u001b[39;00m results:\n\u001b[1;32m      7\u001b[0m         save_results(result)\n",
      "Cell \u001b[0;32mIn[146], line 8\u001b[0m, in \u001b[0;36mparse_pages\u001b[0;34m(url)\u001b[0m\n\u001b[1;32m      4\u001b[0m options\u001b[39m.\u001b[39madd_argument(\u001b[39m'\u001b[39m\u001b[39mno-sandbox\u001b[39m\u001b[39m'\u001b[39m)\n\u001b[1;32m      5\u001b[0m \u001b[39m# options.add_argument('headless')\u001b[39;00m\n\u001b[1;32m      6\u001b[0m \u001b[39m# options.add_argument(\"--enable-javascript\")\u001b[39;00m\n\u001b[0;32m----> 8\u001b[0m driver \u001b[39m=\u001b[39m webdriver\u001b[39m.\u001b[39;49mChrome(options\u001b[39m=\u001b[39;49moptions)\n\u001b[1;32m     10\u001b[0m driver\u001b[39m.\u001b[39mget(url)\n\u001b[1;32m     12\u001b[0m \u001b[39mtry\u001b[39;00m:\n\u001b[1;32m     13\u001b[0m     \u001b[39m# Address\u001b[39;00m\n",
      "File \u001b[0;32m/Library/Frameworks/Python.framework/Versions/3.10/lib/python3.10/site-packages/selenium/webdriver/chrome/webdriver.py:49\u001b[0m, in \u001b[0;36mWebDriver.__init__\u001b[0;34m(self, options, service, keep_alive)\u001b[0m\n\u001b[1;32m     45\u001b[0m \u001b[39mself\u001b[39m\u001b[39m.\u001b[39mkeep_alive \u001b[39m=\u001b[39m keep_alive\n\u001b[1;32m     47\u001b[0m \u001b[39mself\u001b[39m\u001b[39m.\u001b[39mservice\u001b[39m.\u001b[39mpath \u001b[39m=\u001b[39m DriverFinder\u001b[39m.\u001b[39mget_path(\u001b[39mself\u001b[39m\u001b[39m.\u001b[39mservice, \u001b[39mself\u001b[39m\u001b[39m.\u001b[39moptions)\n\u001b[0;32m---> 49\u001b[0m \u001b[39msuper\u001b[39;49m()\u001b[39m.\u001b[39;49m\u001b[39m__init__\u001b[39;49m(\n\u001b[1;32m     50\u001b[0m     DesiredCapabilities\u001b[39m.\u001b[39;49mCHROME[\u001b[39m\"\u001b[39;49m\u001b[39mbrowserName\u001b[39;49m\u001b[39m\"\u001b[39;49m],\n\u001b[1;32m     51\u001b[0m     \u001b[39m\"\u001b[39;49m\u001b[39mgoog\u001b[39;49m\u001b[39m\"\u001b[39;49m,\n\u001b[1;32m     52\u001b[0m     \u001b[39mself\u001b[39;49m\u001b[39m.\u001b[39;49moptions,\n\u001b[1;32m     53\u001b[0m     \u001b[39mself\u001b[39;49m\u001b[39m.\u001b[39;49mservice,\n\u001b[1;32m     54\u001b[0m     \u001b[39mself\u001b[39;49m\u001b[39m.\u001b[39;49mkeep_alive,\n\u001b[1;32m     55\u001b[0m )\n",
      "File \u001b[0;32m/Library/Frameworks/Python.framework/Versions/3.10/lib/python3.10/site-packages/selenium/webdriver/chromium/webdriver.py:51\u001b[0m, in \u001b[0;36mChromiumDriver.__init__\u001b[0;34m(self, browser_name, vendor_prefix, options, service, keep_alive)\u001b[0m\n\u001b[1;32m     48\u001b[0m \u001b[39mself\u001b[39m\u001b[39m.\u001b[39mservice \u001b[39m=\u001b[39m service\n\u001b[1;32m     49\u001b[0m \u001b[39mself\u001b[39m\u001b[39m.\u001b[39moptions \u001b[39m=\u001b[39m options\n\u001b[0;32m---> 51\u001b[0m \u001b[39mself\u001b[39;49m\u001b[39m.\u001b[39;49mservice\u001b[39m.\u001b[39;49mstart()\n\u001b[1;32m     53\u001b[0m \u001b[39mtry\u001b[39;00m:\n\u001b[1;32m     54\u001b[0m     \u001b[39msuper\u001b[39m()\u001b[39m.\u001b[39m\u001b[39m__init__\u001b[39m(\n\u001b[1;32m     55\u001b[0m         command_executor\u001b[39m=\u001b[39mChromiumRemoteConnection(\n\u001b[1;32m     56\u001b[0m             remote_server_addr\u001b[39m=\u001b[39m\u001b[39mself\u001b[39m\u001b[39m.\u001b[39mservice\u001b[39m.\u001b[39mservice_url,\n\u001b[0;32m   (...)\u001b[0m\n\u001b[1;32m     62\u001b[0m         options\u001b[39m=\u001b[39m\u001b[39mself\u001b[39m\u001b[39m.\u001b[39moptions,\n\u001b[1;32m     63\u001b[0m     )\n",
      "File \u001b[0;32m/Library/Frameworks/Python.framework/Versions/3.10/lib/python3.10/site-packages/selenium/webdriver/common/service.py:102\u001b[0m, in \u001b[0;36mService.start\u001b[0;34m(self)\u001b[0m\n\u001b[1;32m     99\u001b[0m     \u001b[39mbreak\u001b[39;00m\n\u001b[1;32m    101\u001b[0m count \u001b[39m+\u001b[39m\u001b[39m=\u001b[39m \u001b[39m1\u001b[39m\n\u001b[0;32m--> 102\u001b[0m sleep(\u001b[39m0.5\u001b[39;49m)\n\u001b[1;32m    103\u001b[0m \u001b[39mif\u001b[39;00m count \u001b[39m==\u001b[39m \u001b[39m60\u001b[39m:\n\u001b[1;32m    104\u001b[0m     \u001b[39mraise\u001b[39;00m WebDriverException(\u001b[39mf\u001b[39m\u001b[39m\"\u001b[39m\u001b[39mCan not connect to the Service \u001b[39m\u001b[39m{\u001b[39;00m\u001b[39mself\u001b[39m\u001b[39m.\u001b[39m_path\u001b[39m}\u001b[39;00m\u001b[39m\"\u001b[39m)\n",
      "\u001b[0;31mKeyboardInterrupt\u001b[0m: "
     ]
    }
   ],
   "source": [
    "for i in range(1, 2):\n",
    "    movie_urls = index_pages(i)\n",
    "    for movie_url in movie_urls:\n",
    "        print(movie_url)\n",
    "        results = parse_pages(movie_url)\n",
    "        for result in results:\n",
    "            save_results(result)"
   ]
  },
  {
   "cell_type": "code",
   "execution_count": null,
   "metadata": {},
   "outputs": [],
   "source": []
  }
 ],
 "metadata": {
  "kernelspec": {
   "display_name": "Python 3",
   "language": "python",
   "name": "python3"
  },
  "language_info": {
   "codemirror_mode": {
    "name": "ipython",
    "version": 3
   },
   "file_extension": ".py",
   "mimetype": "text/x-python",
   "name": "python",
   "nbconvert_exporter": "python",
   "pygments_lexer": "ipython3",
   "version": "3.10.11"
  },
  "orig_nbformat": 4
 },
 "nbformat": 4,
 "nbformat_minor": 2
}
