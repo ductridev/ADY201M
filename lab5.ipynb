{
 "cells": [
  {
   "cell_type": "code",
   "execution_count": null,
   "metadata": {},
   "outputs": [],
   "source": [
    "!pip install lxml selenium requests"
   ]
  },
  {
   "cell_type": "code",
   "execution_count": null,
   "metadata": {},
   "outputs": [],
   "source": [
    "from selenium import webdriver\n",
    "from lxml import etree\n",
    "from selenium.webdriver.common.by import By\n",
    "import csv\n",
    "import time"
   ]
  },
  {
   "cell_type": "code",
   "execution_count": null,
   "metadata": {},
   "outputs": [],
   "source": []
  },
  {
   "cell_type": "code",
   "execution_count": null,
   "metadata": {},
   "outputs": [],
   "source": [
    "def index_pages(number):\n",
    "    mo_urls = []\n",
    "    url = 'https://batdongsan.com.vn/nha-dat-ban-da-nang/p%s' % number\n",
    "    \n",
    "    options = webdriver.ChromeOptions()\n",
    "    options.add_argument('no-sandbox')\n",
    "    # options.add_argument('headless')\n",
    "    # options.add_argument(\"--enable-javascript\")\n",
    "\n",
    "    driver = webdriver.Chrome(options=options)\n",
    "\n",
    "    driver.get(url)\n",
    "    m_urls = driver.find_elements(By.CLASS_NAME, 'js__product-link-for-product-id')\n",
    "    for m_url in m_urls:\n",
    "        mo_urls.append(m_url.get_attribute('href'))\n",
    "    driver.close()\n",
    "    return mo_urls"
   ]
  },
  {
   "cell_type": "code",
   "execution_count": null,
   "metadata": {},
   "outputs": [],
   "source": [
    "def parse_pages(url):\n",
    "    options = webdriver.ChromeOptions()\n",
    "    options.add_argument('no-sandbox')\n",
    "    # options.add_argument('headless')\n",
    "    # options.add_argument(\"--enable-javascript\")\n",
    "\n",
    "    driver = webdriver.Chrome(options=options)\n",
    "\n",
    "    driver.get(url)\n",
    "\n",
    "    \n",
    "    # Address\n",
    "    try:\n",
    "        address = driver.find_element(By.CLASS_NAME, 'js__pr-address').text\n",
    "    except:\n",
    "        address = \"\"\n",
    "\n",
    "    # Price\n",
    "    try:\n",
    "        price = driver.find_element(By.XPATH, '/html/body/div[6]/div/div[2]/div[1]/div[3]/div[3]/div/div/div[2]/span[3]').text\n",
    "    except:\n",
    "        price = \"\"\n",
    "\n",
    "    try:\n",
    "        extPrice = driver.find_element(By.XPATH, '/html/body/div[6]/div/div[2]/div[1]/div[3]/div[1]/div[1]/span[3]').text\n",
    "    except:\n",
    "        extPrice = \"\"\n",
    "\n",
    "    # Area\n",
    "    try:\n",
    "        area = driver.find_element(By.XPATH, '/html/body/div[6]/div/div[2]/div[1]/div[3]/div[3]/div/div/div[1]/span[3]').text\n",
    "    except:\n",
    "        area = \"\"\n",
    "\n",
    "    # Room\n",
    "    try:\n",
    "        room = driver.find_element(By.XPATH, '/html/body/div[6]/div/div[2]/div[1]/div[3]/div[3]/div/div/div[5]/span[3]').text\n",
    "    except:\n",
    "        room = \"\"\n",
    "\n",
    "    # Toilet\n",
    "    try:\n",
    "        toilet = driver.find_element(By.XPATH, '/html/body/div[6]/div/div[2]/div[1]/div[3]/div[3]/div/div/div[6]/span[3]').text\n",
    "    except:\n",
    "        toilet = \"\"\n",
    "\n",
    "    # House Direction\n",
    "    try:\n",
    "        hDirection = driver.find_element(By.XPATH, '/html/body/div[6]/div/div[2]/div[1]/div[3]/div[3]/div/div/div[3]/span[3]').text\n",
    "    except:\n",
    "        hDirection = \"\"\n",
    "\n",
    "    # Balcony direction\n",
    "    try:\n",
    "        bDirection = driver.find_element(By.XPATH, '/html/body/div[6]/div/div[2]/div[1]/div[3]/div[3]/div/div/div[4]/span[3]').text\n",
    "    except:\n",
    "        bDirection = \"\"\n",
    "\n",
    "    driver.close()\n",
    "    \n",
    "    return address, price, extPrice, area, room, toilet, hDirection, bDirection"
   ]
  },
  {
   "cell_type": "code",
   "execution_count": null,
   "metadata": {},
   "outputs": [],
   "source": [
    "def save_results(data):\n",
    "    with open('lab5.csv', 'a', encoding=\"utf-8\") as fp:\n",
    "        writer = csv.writer(fp)\n",
    "        writer.writerow(data)"
   ]
  },
  {
   "cell_type": "code",
   "execution_count": null,
   "metadata": {},
   "outputs": [],
   "source": [
    "for i in range(1, 114):\n",
    "    movie_urls = index_pages(i)\n",
    "    for movie_url in movie_urls:\n",
    "        result = parse_pages(movie_url)\n",
    "        save_results(result)"
   ]
  },
  {
   "cell_type": "code",
   "execution_count": null,
   "metadata": {},
   "outputs": [],
   "source": []
  }
 ],
 "metadata": {
  "kernelspec": {
   "display_name": "Python 3",
   "language": "python",
   "name": "python3"
  },
  "language_info": {
   "codemirror_mode": {
    "name": "ipython",
    "version": 3
   },
   "file_extension": ".py",
   "mimetype": "text/x-python",
   "name": "python",
   "nbconvert_exporter": "python",
   "pygments_lexer": "ipython3",
   "version": "3.10.11"
  },
  "orig_nbformat": 4
 },
 "nbformat": 4,
 "nbformat_minor": 2
}
